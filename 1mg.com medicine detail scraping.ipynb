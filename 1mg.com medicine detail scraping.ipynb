{
 "cells": [
  {
   "cell_type": "code",
   "execution_count": 1,
   "id": "4e0bf446",
   "metadata": {},
   "outputs": [],
   "source": [
    "import requests\n",
    "from bs4 import BeautifulSoup\n",
    "from selenium import webdriver\n",
    "from webdriver_manager.chrome import ChromeDriverManager\n",
    "import csv\n",
    "from csv import writer\n",
    "import pandas as pd"
   ]
  },
  {
   "cell_type": "code",
   "execution_count": 2,
   "id": "4996aa1d",
   "metadata": {},
   "outputs": [],
   "source": [
    "def get_url(search_term):\n",
    "    '''\n",
    "    This function fetches the URL of the item that you want to search\n",
    "    '''\n",
    "    base_url = \"https://www.1mg.com/\"\n",
    "    template = 'https://www.1mg.com/search/all?name={}'\n",
    "    # We'are replacing every space with '+' to adhere with the pattern \n",
    "    search_term = search_term.replace(\" \",\"+\")\n",
    "    \n",
    "    # add term query to url\n",
    "    url = template.format(search_term)\n",
    "    return url"
   ]
  },
  {
   "cell_type": "code",
   "execution_count": 1,
   "id": "c7951995",
   "metadata": {},
   "outputs": [],
   "source": [
    "def get_inner_link(search_term):\n",
    "    '''Post the url extraction, we extract the link to the particular medicine page'''\n",
    "    for page in range(0,1):\n",
    "        url = get_url(search_term)\n",
    "        driver = webdriver.Chrome(ChromeDriverManager().install())\n",
    "        driver.get(url.format(page))\n",
    "        base_url = \"https://www.1mg.com\"\n",
    "        soup = BeautifulSoup(driver.page_source, 'html.parser')\n",
    "        result = soup.find_all('div', {'class':'col-xs-12 col-md-9 col-sm-9 style__container___cTDz0'})\n",
    "\n",
    "        for item in result:\n",
    "            link = [base_url + div.a['href'] for div in result]\n",
    "            for x in link:\n",
    "                print (x)\n",
    "    return x"
   ]
  },
  {
   "cell_type": "code",
   "execution_count": 22,
   "id": "bdf71de2",
   "metadata": {},
   "outputs": [],
   "source": [
    "def extract_records(item):\n",
    "            \n",
    "    Name = item.find(attrs = {'class':'DrugHeader__title-content___2ZaPo'}).text\n",
    "    Info = item.find(attrs = {'class':'DrugOverview__content___22ZBX'}).text\n",
    "    Side_effects = item.find(attrs = {'class':'DrugOverview__list-container___2eAr6 DrugOverview__content___22ZBX'}).text\n",
    "    Uses = item.find(attrs = {'id':'how_drug_works'}).text\n",
    "    Works = item.find(attrs = {'id':'how_to_use'}).text\n",
    "    \n",
    "    result = [Name, Info, Uses, Side_effects, Works]\n",
    "    return result\n",
    "\n",
    "def main(search_term):\n",
    "    \"\"\"Run the main program routine\"\"\"\n",
    "    driver = webdriver.Chrome(ChromeDriverManager().install())\n",
    "\n",
    "    record = []\n",
    "    \n",
    "    import pandas as pd\n",
    "    df = pd.read_csv(\"Meds.csv\")\n",
    "    medicines = df.values.tolist()\n",
    "    for meds in df:\n",
    "        link = get_inner_link(search_term)\n",
    "    \n",
    "        for page in range(0, 1):\n",
    "            header = {'Origin': 'https://www.1mg.com',\n",
    "            'Referer': 'link',\n",
    "            'User-Agent': 'Mozilla/5.0 (Windows NT 10.0; WOW64) AppleWebKit/537.36 (KHTML, like Gecko) Chrome/83.0.4103.97 Safari/537.36'\n",
    "            }\n",
    "\n",
    "            html = requests.get(url = link, headers = header)\n",
    "            html.status_code\n",
    "            bsobj = BeautifulSoup(html.content,'html.parser')\n",
    "            bsobj\n",
    "\n",
    "            bsob = bsobj.findAll('div',{'id':'drug-main-header'})\n",
    "\n",
    "            #save the data to csv file\n",
    "            with open('results.csv', 'w', newline='', encoding = 'utf-8') as f:\n",
    "                thewriter = writer(f)\n",
    "                header1 = ['Name', 'Medicine Info', 'Medicine Uses', 'Side Effects', 'Working']\n",
    "                thewriter.writerow(header1)  \n",
    "\n",
    "                for item in bsob:\n",
    "                    record += extract_records(item)                    \n",
    "                    thewriter.writerow(record)                    "
   ]
  },
  {
   "cell_type": "code",
   "execution_count": 23,
   "id": "4fdf58a1",
   "metadata": {},
   "outputs": [
    {
     "name": "stderr",
     "output_type": "stream",
     "text": [
      "\n",
      "\n",
      "====== WebDriver manager ======\n",
      "Current google-chrome version is 99.0.4844\n",
      "Get LATEST chromedriver version for 99.0.4844 google-chrome\n",
      "Driver [C:\\Users\\bikem\\.wdm\\drivers\\chromedriver\\win32\\99.0.4844.51\\chromedriver.exe] found in cache\n",
      "C:\\Users\\bikem\\AppData\\Local\\Temp/ipykernel_16368/3300213083.py:14: DeprecationWarning: executable_path has been deprecated, please pass in a Service object\n",
      "  driver = webdriver.Chrome(ChromeDriverManager().install())\n",
      "\n",
      "\n",
      "====== WebDriver manager ======\n",
      "Current google-chrome version is 99.0.4844\n",
      "Get LATEST chromedriver version for 99.0.4844 google-chrome\n",
      "Driver [C:\\Users\\bikem\\.wdm\\drivers\\chromedriver\\win32\\99.0.4844.51\\chromedriver.exe] found in cache\n",
      "C:\\Users\\bikem\\AppData\\Local\\Temp/ipykernel_16368/3103778134.py:5: DeprecationWarning: executable_path has been deprecated, please pass in a Service object\n",
      "  driver = webdriver.Chrome(ChromeDriverManager().install())\n"
     ]
    },
    {
     "name": "stdout",
     "output_type": "stream",
     "text": [
      "https://www.1mg.com/drugs/galvus-met-50mg-500mg-tablet-477513\n"
     ]
    },
    {
     "name": "stderr",
     "output_type": "stream",
     "text": [
      "\n",
      "\n",
      "====== WebDriver manager ======\n",
      "Current google-chrome version is 99.0.4844\n",
      "Get LATEST chromedriver version for 99.0.4844 google-chrome\n",
      "Driver [C:\\Users\\bikem\\.wdm\\drivers\\chromedriver\\win32\\99.0.4844.51\\chromedriver.exe] found in cache\n",
      "\n",
      "\n",
      "====== WebDriver manager ======\n",
      "Current google-chrome version is 99.0.4844\n",
      "Get LATEST chromedriver version for 99.0.4844 google-chrome\n",
      "Driver [C:\\Users\\bikem\\.wdm\\drivers\\chromedriver\\win32\\99.0.4844.51\\chromedriver.exe] found in cache\n"
     ]
    },
    {
     "name": "stdout",
     "output_type": "stream",
     "text": [
      "https://www.1mg.com/drugs/gemer-0.5-tablet-pr-322951\n"
     ]
    }
   ],
   "source": [
    "meds = ['galvus 50 500', 'gemer 0.5']\n",
    "length = len(meds)\n",
    "\n",
    "for i in meds:\n",
    "    main(i)\n",
    "    "
   ]
  },
  {
   "cell_type": "code",
   "execution_count": 4,
   "id": "7bd67f5f",
   "metadata": {},
   "outputs": [
    {
     "name": "stdout",
     "output_type": "stream",
     "text": [
      "         Saridon\n",
      "0  Galvus 50 500\n",
      "1   Amodep at 14\n",
      "2      Gemer 0.5\n",
      "3       Dolo 650\n"
     ]
    }
   ],
   "source": [
    "import pandas as pd\n",
    "\n",
    "df = pd.read_csv(\"Meds.csv\")\n",
    "\n",
    "s = df.values.tolist()\n",
    "\n",
    "print(df)"
   ]
  },
  {
   "cell_type": "code",
   "execution_count": null,
   "id": "d89a01b5",
   "metadata": {},
   "outputs": [],
   "source": []
  }
 ],
 "metadata": {
  "kernelspec": {
   "display_name": "Python 3 (ipykernel)",
   "language": "python",
   "name": "python3"
  },
  "language_info": {
   "codemirror_mode": {
    "name": "ipython",
    "version": 3
   },
   "file_extension": ".py",
   "mimetype": "text/x-python",
   "name": "python",
   "nbconvert_exporter": "python",
   "pygments_lexer": "ipython3",
   "version": "3.8.12"
  }
 },
 "nbformat": 4,
 "nbformat_minor": 5
}
